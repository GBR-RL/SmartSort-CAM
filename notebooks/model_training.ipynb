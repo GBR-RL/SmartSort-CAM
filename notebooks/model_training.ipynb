{
 "cells": [
  {
   "cell_type": "code",
   "execution_count": 2,
   "id": "6c8aa2fc-94ba-4def-a64e-73597c06033d",
   "metadata": {},
   "outputs": [],
   "source": [
    "import os\n",
    "import pandas as pd\n",
    "from PIL import Image\n",
    "from tqdm import tqdm\n",
    "\n",
    "import torch\n",
    "import torch.nn as nn\n",
    "from torch.utils.data import Dataset, DataLoader, random_split\n",
    "from torchvision import transforms\n",
    "import timm\n",
    "\n",
    "from sklearn.metrics import classification_report, precision_score, recall_score, f1_score, r2_score"
   ]
  },
  {
   "cell_type": "code",
   "execution_count": 16,
   "id": "15815c11-fe66-4206-8506-bcc8f4359885",
   "metadata": {},
   "outputs": [],
   "source": [
    "# === CONFIG ===\n",
    "CSV_PATH = \"/jupyterlab/VisionInspect/data/part_labels.csv\"\n",
    "DATA_ROOT = \"/VisionInspect/data\"\n",
    "MODEL_SAVE_PATH = \"/VisionInspect/models/convnext_large.pth\"\n",
    "NUM_CLASSES = 6\n",
    "BATCH_SIZE = 64\n",
    "NUM_EPOCHS = 3\n",
    "IMAGE_SIZE = 512\n",
    "USE_MIXED_PRECISION = True\n",
    "VALID_SPLIT = 0.2\n",
    "#DEVICE = torch.device(\"cuda:0\" if torch.cuda.is_available() else \"cpu\")\n",
    "DEVICE = torch.device(\"cuda\")\n",
    "#os.environ[\"CUDA_VISIBLE_DEVICES\"] = \"1\""
   ]
  },
  {
   "cell_type": "code",
   "execution_count": 17,
   "id": "64f01311-b8d1-4180-86cd-aba2cca744c8",
   "metadata": {},
   "outputs": [],
   "source": [
    "# === DATASET ===\n",
    "class PartDataset(Dataset):\n",
    "    def __init__(self, csv_file, root_dir, transform=None):\n",
    "        self.annotations = pd.read_csv(csv_file)\n",
    "        self.root_dir = root_dir\n",
    "        self.transform = transform\n",
    "\n",
    "    def __len__(self):\n",
    "        return len(self.annotations)\n",
    "\n",
    "    def __getitem__(self, idx):\n",
    "        img_path = os.path.join(self.root_dir, self.annotations.iloc[idx, 0])\n",
    "        label = self.annotations.iloc[idx, 1]\n",
    "        image = Image.open(img_path).convert(\"RGB\")\n",
    "        if self.transform:\n",
    "            image = self.transform(image)\n",
    "        return image, PartDataset.class_to_idx[label]\n",
    "\n",
    "    @staticmethod\n",
    "    def prepare_class_index_map(class_names):\n",
    "        PartDataset.class_to_idx = {cls: idx for idx, cls in enumerate(class_names)}\n",
    "        PartDataset.idx_to_class = {idx: cls for cls, idx in PartDataset.class_to_idx.items()}"
   ]
  },
  {
   "cell_type": "code",
   "execution_count": 18,
   "id": "103abc18-fe89-4338-8088-cb9d7e83c4ee",
   "metadata": {},
   "outputs": [],
   "source": [
    "# === TRANSFORMS WITH AUGMENTATION ===\n",
    "transform_train = transforms.Compose([\n",
    "    transforms.Resize((IMAGE_SIZE, IMAGE_SIZE)),\n",
    "    transforms.RandomHorizontalFlip(),\n",
    "    transforms.RandomRotation(10),\n",
    "    transforms.ColorJitter(brightness=0.2, contrast=0.2, saturation=0.2),\n",
    "    transforms.ToTensor(),\n",
    "    transforms.Normalize([0.5]*3, [0.5]*3)\n",
    "])\n",
    "\n",
    "transform_val = transforms.Compose([\n",
    "    transforms.Resize((IMAGE_SIZE, IMAGE_SIZE)),\n",
    "    transforms.ToTensor(),\n",
    "    transforms.Normalize([0.5]*3, [0.5]*3)\n",
    "])"
   ]
  },
  {
   "cell_type": "code",
   "execution_count": 29,
   "id": "76e680bd-ec33-4aaf-9120-ca2339771ecc",
   "metadata": {},
   "outputs": [],
   "source": [
    "# === LOAD DATA ===\n",
    "class_names = ['bolt', 'gear', 'nut', 'washer', 'bearing', 'connector']\n",
    "PartDataset.prepare_class_index_map(class_names)\n",
    "full_dataset = PartDataset(CSV_PATH, DATA_ROOT, transform=transform_train)\n",
    "\n",
    "val_size = int(len(full_dataset) * VALID_SPLIT)\n",
    "train_size = len(full_dataset) - val_size\n",
    "train_dataset, val_dataset = random_split(full_dataset, [train_size, val_size])\n",
    "val_dataset.dataset.transform = transform_val\n",
    "\n",
    "train_loader = DataLoader(train_dataset, batch_size=BATCH_SIZE, shuffle=True, num_workers=2)\n",
    "val_loader = DataLoader(val_dataset, batch_size=BATCH_SIZE, shuffle=False, num_workers=2)"
   ]
  },
  {
   "cell_type": "code",
   "execution_count": 20,
   "id": "83542c6c-53e5-4c0d-b47d-dc0943748830",
   "metadata": {},
   "outputs": [],
   "source": [
    "# === MODEL ===\n",
    "torch.cuda.empty_cache()\n",
    "model = timm.create_model('convnext_large', pretrained=True, num_classes=NUM_CLASSES, drop_rate=0.3)\n",
    "model.to(DEVICE)\n",
    "\n",
    "criterion = nn.CrossEntropyLoss()\n",
    "optimizer = torch.optim.AdamW(model.parameters(), lr=1e-4, weight_decay=1e-5)\n",
    "scaler = torch.amp.GradScaler(device = 'cuda', enabled=USE_MIXED_PRECISION)"
   ]
  },
  {
   "cell_type": "code",
   "execution_count": 21,
   "id": "d0395413-a76f-416f-a672-2b489d591da9",
   "metadata": {},
   "outputs": [
    {
     "name": "stderr",
     "output_type": "stream",
     "text": [
      "/w0/tmp/slurm_kt226005.56165959/ipykernel_805/1929699746.py:14: FutureWarning: `torch.cuda.amp.autocast(args...)` is deprecated. Please use `torch.amp.autocast('cuda', args...)` instead.\n",
      "  with torch.cuda.amp.autocast(enabled=USE_MIXED_PRECISION):\n",
      "Epoch [1/3]: 100%|██████████| 43/43 [00:29<00:00,  1.44it/s, acc=86.4, loss=0.000503]\n"
     ]
    },
    {
     "name": "stdout",
     "output_type": "stream",
     "text": [
      "✅ Epoch 1 Training Accuracy: 86.36%\n"
     ]
    },
    {
     "name": "stderr",
     "output_type": "stream",
     "text": [
      "Epoch [2/3]: 100%|██████████| 43/43 [00:25<00:00,  1.67it/s, acc=100, loss=0.000195]\n"
     ]
    },
    {
     "name": "stdout",
     "output_type": "stream",
     "text": [
      "✅ Epoch 2 Training Accuracy: 100.00%\n"
     ]
    },
    {
     "name": "stderr",
     "output_type": "stream",
     "text": [
      "Epoch [3/3]: 100%|██████████| 43/43 [00:25<00:00,  1.70it/s, acc=100, loss=0.000153]"
     ]
    },
    {
     "name": "stdout",
     "output_type": "stream",
     "text": [
      "✅ Epoch 3 Training Accuracy: 100.00%\n"
     ]
    },
    {
     "name": "stderr",
     "output_type": "stream",
     "text": [
      "\n"
     ]
    }
   ],
   "source": [
    "# === TRAIN LOOP WITH VALIDATION ===\n",
    "for epoch in range(NUM_EPOCHS):\n",
    "    model.train()\n",
    "    train_loss = 0.0\n",
    "    correct = 0\n",
    "    total = 0\n",
    "\n",
    "    loop = tqdm(train_loader, desc=f\"Epoch [{epoch+1}/{NUM_EPOCHS}]\")\n",
    "\n",
    "    for images, labels in loop:\n",
    "        images, labels = images.to(DEVICE), labels.to(DEVICE)\n",
    "        optimizer.zero_grad()\n",
    "\n",
    "        with torch.cuda.amp.autocast(enabled=USE_MIXED_PRECISION):\n",
    "            outputs = model(images)\n",
    "            loss = criterion(outputs, labels)\n",
    "\n",
    "        scaler.scale(loss).backward()\n",
    "        scaler.step(optimizer)\n",
    "        scaler.update()\n",
    "\n",
    "        train_loss += loss.item()\n",
    "        preds = outputs.argmax(dim=1)\n",
    "        correct += (preds == labels).sum().item()\n",
    "        total += labels.size(0)\n",
    "        loop.set_postfix(loss=loss.item(), acc=100.0 * correct / total)\n",
    "\n",
    "    print(f\"✅ Epoch {epoch+1} Training Accuracy: {100.0 * correct / total:.2f}%\")"
   ]
  },
  {
   "cell_type": "code",
   "execution_count": 22,
   "id": "910408b3-5267-41b7-8fed-568b16ef17b2",
   "metadata": {},
   "outputs": [
    {
     "name": "stderr",
     "output_type": "stream",
     "text": [
      "/w0/tmp/slurm_kt226005.56165959/ipykernel_805/1322488971.py:8: FutureWarning: `torch.cuda.amp.autocast(args...)` is deprecated. Please use `torch.amp.autocast('cuda', args...)` instead.\n",
      "  with torch.cuda.amp.autocast(enabled=USE_MIXED_PRECISION):\n"
     ]
    },
    {
     "name": "stdout",
     "output_type": "stream",
     "text": [
      "🔍 Validation Precision: 1.0000\n",
      "🔍 Validation Recall:    1.0000\n",
      "🔍 Validation F1 Score:  1.0000\n",
      "🔍 Validation R2 Score:  1.0000\n",
      "📊 Classification Report:\n",
      "              precision    recall  f1-score   support\n",
      "\n",
      "        bolt       1.00      1.00      1.00       110\n",
      "        gear       1.00      1.00      1.00       120\n",
      "         nut       1.00      1.00      1.00       124\n",
      "      washer       1.00      1.00      1.00        83\n",
      "     bearing       1.00      1.00      1.00       128\n",
      "   connector       1.00      1.00      1.00       115\n",
      "\n",
      "    accuracy                           1.00       680\n",
      "   macro avg       1.00      1.00      1.00       680\n",
      "weighted avg       1.00      1.00      1.00       680\n",
      "\n"
     ]
    }
   ],
   "source": [
    "    # === VALIDATION ===\n",
    "    model.eval()\n",
    "    val_preds = []\n",
    "    val_labels = []\n",
    "    with torch.no_grad():\n",
    "        for images, labels in val_loader:\n",
    "            images, labels = images.to(DEVICE), labels.to(DEVICE)\n",
    "            with torch.cuda.amp.autocast(enabled=USE_MIXED_PRECISION):\n",
    "                outputs = model(images)\n",
    "            preds = outputs.argmax(dim=1)\n",
    "            val_preds.extend(preds.cpu().numpy())\n",
    "            val_labels.extend(labels.cpu().numpy())\n",
    "\n",
    "    precision = precision_score(val_labels, val_preds, average='weighted', zero_division=0)\n",
    "    recall = recall_score(val_labels, val_preds, average='weighted', zero_division=0)\n",
    "    f1 = f1_score(val_labels, val_preds, average='weighted', zero_division=0)\n",
    "    r2 = r2_score(val_labels, val_preds) if len(set(val_labels)) > 1 else 0.0\n",
    "\n",
    "    print(f\"Validation Precision: {precision:.4f}\")\n",
    "    print(f\"Validation Recall:    {recall:.4f}\")\n",
    "    print(f\"Validation F1 Score:  {f1:.4f}\")\n",
    "    print(f\"Validation R2 Score:  {r2:.4f}\")\n",
    "    print(\"Classification Report:\")\n",
    "    print(classification_report(val_labels, val_preds, target_names=class_names))"
   ]
  },
  {
   "cell_type": "code",
   "execution_count": null,
   "id": "8ab89fae-e4c5-468e-b3a9-b4a0a8cf66ab",
   "metadata": {},
   "outputs": [],
   "source": [
    "# === SAVE MODEL ===\n",
    "os.makedirs(os.path.dirname(MODEL_SAVE_PATH), exist_ok=True)\n",
    "torch.save(model.state_dict(), MODEL_SAVE_PATH)\n",
    "print(\"Model saved to {}\".format(MODEL_SAVE_PATH))"
   ]
  },
  {
   "cell_type": "code",
   "execution_count": 31,
   "id": "013ad723-e9d3-454c-b0eb-ac6a1b749348",
   "metadata": {},
   "outputs": [
    {
     "name": "stdout",
     "output_type": "stream",
     "text": [
      "🔍 Number of overlapping file paths in train and validation sets: 0\n",
      "✅ No overlap. Train/Validation split is clean.\n"
     ]
    }
   ],
   "source": [
    "#Sanity - Overlap Check\n",
    "import pandas as pd\n",
    "#from train_classifier import PartDataset  # Assuming same file or shared environment\n",
    "\n",
    "# Load CSV again\n",
    "df = pd.read_csv(CSV_PATH)\n",
    "PartDataset.prepare_class_index_map(['bolt', 'gear', 'nut', 'washer', 'bearing', 'connector'])\n",
    "\n",
    "# Recreate full dataset with index mapping\n",
    "full_dataset = PartDataset(CSV_PATH, \"data\")\n",
    "val_size = int(len(full_dataset) * 0.2)\n",
    "train_size = len(full_dataset) - val_size\n",
    "\n",
    "from torch.utils.data import random_split\n",
    "train_dataset, val_dataset = random_split(full_dataset, [train_size, val_size])\n",
    "\n",
    "# Extract paths from indices (match CSV paths)\n",
    "train_paths = set(df.iloc[train_dataset.indices]['filepath'].values)\n",
    "val_paths = set(df.iloc[val_dataset.indices]['filepath'].values)\n",
    "\n",
    "# Check overlap\n",
    "overlapping_paths = train_paths.intersection(val_paths)\n",
    "print(f\"Number of overlapping file paths in train and validation sets: {len(overlapping_paths)}\")\n",
    "if overlapping_paths:\n",
    "    print(\"Overlap detected! Examples:\")\n",
    "    for i, path in enumerate(list(overlapping_paths)[:10]):\n",
    "        print(f\" - {path}\")\n",
    "else:\n",
    "    print(\"No overlap. Train/Validation split is clean.\")\n"
   ]
  },
  {
   "cell_type": "code",
   "execution_count": 36,
   "id": "c0c06444-828b-40f9-bb98-49e5660089bc",
   "metadata": {},
   "outputs": [
    {
     "name": "stderr",
     "output_type": "stream",
     "text": [
      "/w0/tmp/slurm_kt226005.56165959/ipykernel_805/2202229213.py:3: FutureWarning: You are using `torch.load` with `weights_only=False` (the current default value), which uses the default pickle module implicitly. It is possible to construct malicious pickle data which will execute arbitrary code during unpickling (See https://github.com/pytorch/pytorch/blob/main/SECURITY.md#untrusted-models for more details). In a future release, the default value for `weights_only` will be flipped to `True`. This limits the functions that could be executed during unpickling. Arbitrary objects will no longer be allowed to be loaded via this mode unless they are explicitly allowlisted by the user via `torch.serialization.add_safe_globals`. We recommend you start setting `weights_only=True` for any use case where you don't have full control of the loaded file. Please open an issue on GitHub for any issues related to this experimental feature.\n",
      "  model.load_state_dict(torch.load(\"/rwthfs/rz/cluster/home/kt226005/jupyterlab/VisionInspect/models/convnext_large.pth\", map_location=DEVICE))\n",
      "100%|██████████| 200/200 [00:10<00:00, 18.84it/s]\n"
     ]
    },
    {
     "name": "stdout",
     "output_type": "stream",
     "text": [
      "🔄 Domain Shift Accuracy: 99.50%\n",
      "🔮 Avg Prediction Confidence: 0.9704\n"
     ]
    },
    {
     "data": {
      "image/png": "[encoded data removed]",
      "text/plain": [
       "<Figure size 800x500 with 1 Axes>"
      ]
     },
     "metadata": {},
     "output_type": "display_data"
    }
   ],
   "source": [
    "#Domain Shift Model Performance Check\n",
    "import pandas as pd\n",
    "from PIL import Image, ImageEnhance, ImageFilter\n",
    "from torchvision import transforms\n",
    "from tqdm import tqdm\n",
    "import matplotlib.pyplot as plt\n",
    "import numpy as np\n",
    "\n",
    "# === LOAD MODEL ===\n",
    "model = timm.create_model('convnext_large', pretrained=False, num_classes=NUM_CLASSES)\n",
    "model.load_state_dict(torch.load(\"/VisionInspect/models/convnext_large.pth\", map_location=DEVICE))\n",
    "model.eval().to(DEVICE)\n",
    "\n",
    "# === CLASS INDEX ===\n",
    "class_names = ['bolt', 'gear', 'nut', 'washer', 'bearing', 'connector']\n",
    "class_to_idx = {cls: idx for idx, cls in enumerate(class_names)}\n",
    "idx_to_class = {v: k for k, v in class_to_idx.items()}\n",
    "\n",
    "# === DOMAIN SHIFT TRANSFORMS ===\n",
    "# Simulate low-light, blur, and pose (rotation)\n",
    "def domain_shift(img: Image.Image) -> Image.Image:\n",
    "    img = img.convert(\"RGB\")\n",
    "    img = ImageEnhance.Brightness(img).enhance(0.5)  # simulate low light\n",
    "    img = img.rotate(20)  # slight rotational change\n",
    "    img = img.filter(ImageFilter.GaussianBlur(radius=1.5))  # blur\n",
    "    return img\n",
    "\n",
    "transform = transforms.Compose([\n",
    "    transforms.Resize((IMAGE_SIZE, IMAGE_SIZE)),\n",
    "    transforms.ToTensor(),\n",
    "    transforms.Normalize([0.5]*3, [0.5]*3)\n",
    "])\n",
    "\n",
    "# === EVALUATE ON SHIFTED IMAGES ===\n",
    "df = pd.read_csv(CSV_PATH)\n",
    "correct = 0\n",
    "total = 0\n",
    "confidences = []\n",
    "predictions = []\n",
    "truths = []\n",
    "\n",
    "sample_paths = df.sample(200, random_state=42).reset_index(drop=True)  # Test on subset\n",
    "\n",
    "for _, row in tqdm(sample_paths.iterrows(), total=len(sample_paths)):\n",
    "    path = os.path.join(DATA_ROOT, row['filepath'])\n",
    "    label = class_to_idx[row['label']]\n",
    "    \n",
    "    try:\n",
    "        img = Image.open(path)\n",
    "        shifted_img = domain_shift(img)\n",
    "        input_tensor = transform(shifted_img).unsqueeze(0).to(DEVICE)\n",
    "\n",
    "        with torch.no_grad():\n",
    "            output = model(input_tensor)\n",
    "            pred = output.argmax(dim=1).item()\n",
    "            conf = torch.softmax(output, dim=1)[0, pred].item()\n",
    "\n",
    "        correct += (pred == label)\n",
    "        confidences.append(conf)\n",
    "        predictions.append(pred)\n",
    "        truths.append(label)\n",
    "        total += 1\n",
    "    except:\n",
    "        continue\n",
    "\n",
    "accuracy = correct / total\n",
    "avg_conf = np.mean(confidences)\n",
    "\n",
    "print(f\"Domain Shift Accuracy: {accuracy*100:.2f}%\")\n",
    "print(f\"🔮 Avg Prediction Confidence: {avg_conf:.4f}\")\n",
    "\n",
    "# === PLOT CONFIDENCE HISTOGRAM ===\n",
    "plt.figure(figsize=(8, 5))\n",
    "plt.hist(confidences, bins=20, color='skyblue', edgecolor='black')\n",
    "plt.title(\"Confidence Distribution Under Domain Shift\")\n",
    "plt.xlabel(\"Confidence\")\n",
    "plt.ylabel(\"Count\")\n",
    "plt.grid(True)\n",
    "plt.tight_layout()\n",
    "plt.show()\n"
   ]
  },
  {
   "cell_type": "code",
   "execution_count": null,
   "id": "373d1e41-5ed6-4dc8-84c2-3778751ed3d0",
   "metadata": {},
   "outputs": [],
   "source": []
  }
 ],
 "metadata": {
  "kernelspec": {
   "display_name": "Python 3 (ipykernel)",
   "language": "python",
   "name": "python3"
  },
  "language_info": {
   "codemirror_mode": {
    "name": "ipython",
    "version": 3
   },
   "file_extension": ".py",
   "mimetype": "text/x-python",
   "name": "python",
   "nbconvert_exporter": "python",
   "pygments_lexer": "ipython3",
   "version": "3.11.11"
  }
 },
 "nbformat": 4,
 "nbformat_minor": 5
}
